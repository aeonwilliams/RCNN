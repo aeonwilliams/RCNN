{
 "cells": [
  {
   "cell_type": "markdown",
   "metadata": {},
   "source": [
    "Author: Alejandro Herrera\n",
    "\n",
    "December 2020"
   ]
  },
  {
   "cell_type": "markdown",
   "metadata": {},
   "source": [
    "Use this to convert a CSV of image information into an XML for splitting:\n",
    "\n",
    "https://www.convertcsv.com/csv-to-xml.htm"
   ]
  },
  {
   "cell_type": "code",
   "execution_count": 1,
   "metadata": {},
   "outputs": [],
   "source": [
    "import xml.etree.ElementTree as ET\n",
    "import os.path\n",
    "from os import path"
   ]
  },
  {
   "cell_type": "code",
   "execution_count": 2,
   "metadata": {},
   "outputs": [],
   "source": [
    "def split_xml(file='convertcsv.xml', out_dir='', image_type='.png'):\n",
    "    \"\"\"\n",
    "    Splits an xml of image data into separate xmls for each unique image.\n",
    "    \n",
    "    Expects:\n",
    "    <root>\n",
    "    <row>\n",
    "    <image> imagename.imagetype </image>\n",
    "    <xmin> float </xmin>\n",
    "    <ymin> float </ymin>\n",
    "    <xmax> float </xmax>\n",
    "    <ymax> float </ymax>\n",
    "    <label> object class label </label>\n",
    "    </row>\n",
    "    .\n",
    "    .\n",
    "    </root>\n",
    "    \n",
    "    Where each <row></row> is bounding box info within the given image.\n",
    "    \n",
    "    Parameters:\n",
    "        file       - xml file to split\n",
    "        out_dir    - Directory to save the xml files to\n",
    "        image_type - Image extension type ex: '.png'\n",
    "        \n",
    "    Results In:\n",
    "        out_dir\n",
    "        |-- imagename.xml ... for each unique image found in the given file\n",
    "    \"\"\"\n",
    "    tree = ET.parse(file)\n",
    "    root = tree.getroot()\n",
    "    \n",
    "    # iterate through each row chunk in the xml file\n",
    "    for row in root.iter('row'):\n",
    "        stringname = str(row.find('image').text)\n",
    "        # valid image file\n",
    "        if stringname.endswith(image_type):\n",
    "            stringname, ext = stringname.split('.')\n",
    "            filename = format(out_dir + stringname + \".xml\")\n",
    "            foundfile = path.exists(filename)\n",
    "            \n",
    "            # if the xml file for this bounding box already exists\n",
    "            if foundfile == True:\n",
    "                tree_temp = ET.parse(filename)\n",
    "                root_temp = tree_temp.getroot()\n",
    "                root_temp.append(row)\n",
    "                with open(filename, 'wb') as f:\n",
    "                    f.write(ET.tostring(root_temp))\n",
    "            # create new xml file to append boxes into\n",
    "            else:\n",
    "                newroot = ET.Element(\"root\")\n",
    "                newroot.insert(0, row)\n",
    "                with open(filename, 'wb') as f:\n",
    "                    f.write(ET.tostring(newroot))\n",
    "\n",
    "            f.close()"
   ]
  },
  {
   "cell_type": "code",
   "execution_count": 3,
   "metadata": {},
   "outputs": [],
   "source": [
    "split_xml(\".\\zergset2Cartooned\\convertcsv.xml\", './zergset2Cartooned/', '.png')"
   ]
  }
 ],
 "metadata": {
  "kernelspec": {
   "display_name": "Python 3",
   "language": "python",
   "name": "python3"
  },
  "language_info": {
   "codemirror_mode": {
    "name": "ipython",
    "version": 3
   },
   "file_extension": ".py",
   "mimetype": "text/x-python",
   "name": "python",
   "nbconvert_exporter": "python",
   "pygments_lexer": "ipython3",
   "version": "3.7.4"
  },
  "varInspector": {
   "cols": {
    "lenName": 16,
    "lenType": 16,
    "lenVar": 40
   },
   "kernels_config": {
    "python": {
     "delete_cmd_postfix": "",
     "delete_cmd_prefix": "del ",
     "library": "var_list.py",
     "varRefreshCmd": "print(var_dic_list())"
    },
    "r": {
     "delete_cmd_postfix": ") ",
     "delete_cmd_prefix": "rm(",
     "library": "var_list.r",
     "varRefreshCmd": "cat(var_dic_list()) "
    }
   },
   "types_to_exclude": [
    "module",
    "function",
    "builtin_function_or_method",
    "instance",
    "_Feature"
   ],
   "window_display": false
  }
 },
 "nbformat": 4,
 "nbformat_minor": 2
}
